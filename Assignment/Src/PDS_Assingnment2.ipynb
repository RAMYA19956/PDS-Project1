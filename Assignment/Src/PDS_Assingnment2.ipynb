{
  "nbformat": 4,
  "nbformat_minor": 0,
  "metadata": {
    "colab": {
      "provenance": []
    },
    "kernelspec": {
      "name": "python3",
      "display_name": "Python 3"
    },
    "language_info": {
      "name": "python"
    }
  },
  "cells": [
    {
      "cell_type": "code",
      "source": [
        "import pandas as pd\n",
        "from datetime import datetime\n",
        "\n",
        "# Load dataset\n",
        "data = pd.read_csv('train.csv')\n",
        "\n",
        "# a) Handling Missing Values and empty strings in all the columns\n",
        "missing_values = data.isnull().sum()\n",
        "\n",
        "# Impute missing values and handle empty strings for numerical columns\n",
        "numerical_columns = ['Year', 'Mileage', 'Engine', 'Power', 'New_Price']\n",
        "categorical_columns = ['Fuel_Type', 'Transmission']\n",
        "\n",
        "for column in numerical_columns:\n",
        "    # Identify the  handle non-numeric characters by changing them with NaN\n",
        "    data[column] = pd.to_numeric(data[column], errors='coerce')\n",
        "    data[column].fillna(data[column].mean(), inplace=True)\n",
        "\n",
        "for column in categorical_columns:\n",
        "    data[column].fillna(data[column].mode()[0], inplace=True)\n",
        "\n",
        "# b) Removing Units, No need to clear the units again, we have already completed it while handling missing values.\n",
        "\n",
        "# c) Change the categorical variables (“Fuel_Type” and “Transmission”) into numerical one hot/Encoding for Categorical Variables\n",
        "data = pd.get_dummies(data, columns=['Fuel_Type', 'Transmission'], prefix=['Fuel_Type', 'Transmission'])\n",
        "\n",
        "# d) Create one more New Feature - Current Age of the Car\n",
        "current_year = datetime.now().year\n",
        "data['Current_Age'] = current_year - data['Year']\n",
        "\n",
        "# Display the first few rows of the changed dataset values.\n",
        "print(data.head())\n",
        "\n",
        "# Store the processed dataset.\n",
        "data.to_csv('processed_train.csv', index=False)\n"
      ],
      "metadata": {
        "colab": {
          "base_uri": "https://localhost:8080/"
        },
        "id": "HEiNfsrq9fP3",
        "outputId": "fe0ce684-be22-4112-eca3-ae138ec71db1"
      },
      "execution_count": 2,
      "outputs": [
        {
          "output_type": "stream",
          "name": "stdout",
          "text": [
            "   Unnamed: 0                              Name    Location  Year  \\\n",
            "0           1  Hyundai Creta 1.6 CRDi SX Option        Pune  2015   \n",
            "1           2                      Honda Jazz V     Chennai  2011   \n",
            "2           3                 Maruti Ertiga VDI     Chennai  2012   \n",
            "3           4   Audi A4 New 2.0 TDI Multitronic  Coimbatore  2013   \n",
            "4           6            Nissan Micra Diesel XV      Jaipur  2013   \n",
            "\n",
            "   Kilometers_Driven Owner_Type  Mileage  Engine  Power  Seats  New_Price  \\\n",
            "0              41000      First      NaN     NaN    NaN    5.0        NaN   \n",
            "1              46000      First      NaN     NaN    NaN    5.0        NaN   \n",
            "2              87000      First      NaN     NaN    NaN    7.0        NaN   \n",
            "3              40670     Second      NaN     NaN    NaN    5.0        NaN   \n",
            "4              86999      First      NaN     NaN    NaN    5.0        NaN   \n",
            "\n",
            "   Price  Fuel_Type_Diesel  Fuel_Type_Electric  Fuel_Type_Petrol  \\\n",
            "0  12.50                 1                   0                 0   \n",
            "1   4.50                 0                   0                 1   \n",
            "2   6.00                 1                   0                 0   \n",
            "3  17.74                 1                   0                 0   \n",
            "4   3.50                 1                   0                 0   \n",
            "\n",
            "   Transmission_Automatic  Transmission_Manual  Current_Age  \n",
            "0                       0                    1            8  \n",
            "1                       0                    1           12  \n",
            "2                       0                    1           11  \n",
            "3                       1                    0           10  \n",
            "4                       0                    1           10  \n"
          ]
        }
      ]
    }
  ]
}
