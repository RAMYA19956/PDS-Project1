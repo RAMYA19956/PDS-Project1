{
  "nbformat": 4,
  "nbformat_minor": 0,
  "metadata": {
    "colab": {
      "provenance": []
    },
    "kernelspec": {
      "name": "python3",
      "display_name": "Python 3"
    },
    "language_info": {
      "name": "python"
    }
  },
  "cells": [
    {
      "cell_type": "code",
      "execution_count": 1,
      "metadata": {
        "colab": {
          "base_uri": "https://localhost:8080/"
        },
        "id": "kpOTq0xppf58",
        "outputId": "0d902811-34db-4faa-dade-93a1221217c7"
      },
      "outputs": [
        {
          "output_type": "stream",
          "name": "stdout",
          "text": [
            "Requirement already satisfied: pandas in /usr/local/lib/python3.10/dist-packages (1.5.3)\n",
            "Requirement already satisfied: scipy in /usr/local/lib/python3.10/dist-packages (1.11.2)\n",
            "Requirement already satisfied: matplotlib in /usr/local/lib/python3.10/dist-packages (3.7.1)\n",
            "Requirement already satisfied: python-dateutil>=2.8.1 in /usr/local/lib/python3.10/dist-packages (from pandas) (2.8.2)\n",
            "Requirement already satisfied: pytz>=2020.1 in /usr/local/lib/python3.10/dist-packages (from pandas) (2023.3.post1)\n",
            "Requirement already satisfied: numpy>=1.21.0 in /usr/local/lib/python3.10/dist-packages (from pandas) (1.23.5)\n",
            "Requirement already satisfied: contourpy>=1.0.1 in /usr/local/lib/python3.10/dist-packages (from matplotlib) (1.1.0)\n",
            "Requirement already satisfied: cycler>=0.10 in /usr/local/lib/python3.10/dist-packages (from matplotlib) (0.11.0)\n",
            "Requirement already satisfied: fonttools>=4.22.0 in /usr/local/lib/python3.10/dist-packages (from matplotlib) (4.42.1)\n",
            "Requirement already satisfied: kiwisolver>=1.0.1 in /usr/local/lib/python3.10/dist-packages (from matplotlib) (1.4.5)\n",
            "Requirement already satisfied: packaging>=20.0 in /usr/local/lib/python3.10/dist-packages (from matplotlib) (23.1)\n",
            "Requirement already satisfied: pillow>=6.2.0 in /usr/local/lib/python3.10/dist-packages (from matplotlib) (9.4.0)\n",
            "Requirement already satisfied: pyparsing>=2.3.1 in /usr/local/lib/python3.10/dist-packages (from matplotlib) (3.1.1)\n",
            "Requirement already satisfied: six>=1.5 in /usr/local/lib/python3.10/dist-packages (from python-dateutil>=2.8.1->pandas) (1.16.0)\n"
          ]
        }
      ],
      "source": [
        "pip install pandas scipy matplotlib\n"
      ]
    },
    {
      "cell_type": "code",
      "source": [
        "import pandas as pd\n",
        "from scipy import stats\n",
        "import matplotlib.pyplot as plt\n",
        "\n",
        "# Data Acquisition\n",
        "frailty_data = pd.read_csv(\"data1.csv\")\n",
        "\n",
        "# Print column to find the exact column names\n",
        "print(frailty_data.columns)\n",
        "\n",
        "# Update column names to extra space\n",
        "hc = 'Height '\n",
        "wc = 'Weight '\n",
        "ac = 'Age'\n",
        "\n",
        "# Data Processing based on Height\n",
        "cleaned_data_height = frailty_data[frailty_data[hc] > 30].dropna()\n",
        "cleaned_data_height.to_csv(\"cleandata1_height.csv\", index=False)\n",
        "\n",
        "# Data Processing based on Age\n",
        "cleaned_data_age = frailty_data[frailty_data[ac] > 15].dropna()\n",
        "cleaned_data_age.to_csv(\"cleandata1_age.csv\", index=False)\n",
        "\n",
        "# Data Analysis with T-test\n",
        "t_statistic, p_value = stats.ttest_rel(cleaned_data_height[hc], cleaned_data_height[wc])\n",
        "with open(\"testingdata1result.txt\", \"w\") as f:\n",
        "    f.write(f\"T-statistic: {t_statistic}\\n\")\n",
        "    f.write(f\"P-value: {p_value}\\n\")\n",
        "\n",
        "# Data Visualization Process\n",
        "plt.scatter(frailty_data[hc], frailty_data[wc], color='lightgreen')\n",
        "plt.title(\"Height Vs Weight\")\n",
        "plt.xlabel(\"Height\")\n",
        "plt.ylabel(\"Weight\")\n",
        "plt.show()"
      ],
      "metadata": {
        "colab": {
          "base_uri": "https://localhost:8080/",
          "height": 489
        },
        "id": "5XXpoUISpsJ1",
        "outputId": "7bbbc035-d3b6-465f-aa64-8c20124795c2"
      },
      "execution_count": 2,
      "outputs": [
        {
          "output_type": "stream",
          "name": "stdout",
          "text": [
            "Index(['Height ', 'Weight ', 'Age', 'Grip strength', 'Frailty'], dtype='object')\n"
          ]
        },
        {
          "output_type": "display_data",
          "data": {
            "text/plain": [
              "<Figure size 640x480 with 1 Axes>"
            ],
            "image/png": "[encoded data removed]"
          },
          "metadata": {}
        }
      ]
    }
  ]
}